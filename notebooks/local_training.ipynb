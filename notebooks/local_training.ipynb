{
 "cells": [
  {
   "cell_type": "code",
   "execution_count": 1,
   "metadata": {},
   "outputs": [
    {
     "name": "stderr",
     "output_type": "stream",
     "text": [
      "/home/kim/anaconda3/lib/python3.6/importlib/_bootstrap.py:205: RuntimeWarning: compiletime version 3.5 of module 'tensorflow.python.framework.fast_tensor_util' does not match runtime version 3.6\n",
      "  return f(*args, **kwds)\n"
     ]
    }
   ],
   "source": [
    "import pandas as pd\n",
    "import numpy as np\n",
    "import pickle\n",
    "import matplotlib.pyplot as plt\n",
    "from scipy import stats\n",
    "import tensorflow as tf\n",
    "import seaborn as sns\n",
    "from pylab import rcParams\n",
    "from sklearn import metrics\n",
    "from sklearn.model_selection import train_test_split\n",
    "%matplotlib inline\n",
    "sns.set(style='whitegrid', palette='muted', font_scale=1.5)\n",
    "rcParams['figure.figsize'] = 14, 8\n",
    "RANDOM_SEED = 42"
   ]
  },
  {
   "cell_type": "code",
   "execution_count": 2,
   "metadata": {},
   "outputs": [
    {
     "name": "stdout",
     "output_type": "stream",
     "text": [
      "CPU times: user 1min 39s, sys: 3.64 s, total: 1min 43s\n",
      "Wall time: 1min 43s\n",
      "CPU times: user 1min 39s, sys: 3.64 s, total: 1min 43s\n",
      "Wall time: 1min 43s\n"
     ]
    }
   ],
   "source": [
    "%%time\n",
    "%%time\n",
    "X_train = pd.read_csv(\"./cleaned_data/train/features/x_train.csv\").values\n",
    "X_test = pd.read_csv(\"./cleaned_data/test/features/x_test.csv\").values\n",
    "y_train = pd.read_csv(\"./cleaned_data/train/labels/y_train.csv\").values\n",
    "y_test = pd.read_csv(\"./cleaned_data/test/labels/y_test.csv\").values"
   ]
  },
  {
   "cell_type": "code",
   "execution_count": 3,
   "metadata": {},
   "outputs": [
    {
     "name": "stdout",
     "output_type": "stream",
     "text": [
      "(522490, 600), (130622, 600), (522490, 1), (130622, 1)\n"
     ]
    }
   ],
   "source": [
    "print(f\"{X_train.shape}, {X_test.shape}, {y_train.shape}, {y_test.shape}\")"
   ]
  },
  {
   "cell_type": "code",
   "execution_count": 4,
   "metadata": {
    "collapsed": true
   },
   "outputs": [],
   "source": [
    "N_CLASSES = 7\n",
    "N_HIDDEN_UNITS = 64\n",
    "N_TIME_STEPS = 200\n",
    "N_FEATURES=3"
   ]
  },
  {
   "cell_type": "code",
   "execution_count": 5,
   "metadata": {},
   "outputs": [],
   "source": [
    "X_train = X_train.reshape(len(X_train), N_TIME_STEPS, N_FEATURES)\n",
    "X_test = X_test.reshape(len(X_test), N_TIME_STEPS, N_FEATURES)"
   ]
  },
  {
   "cell_type": "code",
   "execution_count": 6,
   "metadata": {
    "collapsed": true
   },
   "outputs": [],
   "source": [
    "def create_LSTM_model(inputs):\n",
    "    W = {\n",
    "        'hidden': tf.Variable(tf.random_normal([N_FEATURES, N_HIDDEN_UNITS])),\n",
    "        'output': tf.Variable(tf.random_normal([N_HIDDEN_UNITS, N_CLASSES]))\n",
    "    }\n",
    "    biases = {\n",
    "        'hidden': tf.Variable(tf.random_normal([N_HIDDEN_UNITS], mean=1.0)),\n",
    "        'output': tf.Variable(tf.random_normal([N_CLASSES]))\n",
    "    }\n",
    "    \n",
    "    X = tf.transpose(inputs, [1, 0, 2])\n",
    "    X = tf.reshape(X, [-1, N_FEATURES])\n",
    "    hidden = tf.nn.relu(tf.matmul(X, W['hidden']) + biases['hidden'])\n",
    "    hidden = tf.split(hidden, N_TIME_STEPS, 0)\n",
    "\n",
    "    # Stack 2 LSTM layers\n",
    "    lstm_layers = [tf.contrib.rnn.BasicLSTMCell(N_HIDDEN_UNITS, forget_bias=1.0) for _ in range(2)]\n",
    "    lstm_layers = tf.contrib.rnn.MultiRNNCell(lstm_layers)\n",
    "\n",
    "    outputs, _ = tf.contrib.rnn.static_rnn(lstm_layers, hidden, dtype=tf.float32)\n",
    "\n",
    "    # Get output for the last time step\n",
    "    lstm_last_output = outputs[-1]\n",
    "\n",
    "    return tf.matmul(lstm_last_output, W['output']) + biases['output']"
   ]
  },
  {
   "cell_type": "code",
   "execution_count": 7,
   "metadata": {
    "collapsed": true
   },
   "outputs": [],
   "source": [
    "tf.reset_default_graph()\n",
    "\n",
    "X = tf.placeholder(tf.float32, [None, N_TIME_STEPS, N_FEATURES], name=\"input\")\n",
    "Y = tf.placeholder(tf.int64, [None, 1])"
   ]
  },
  {
   "cell_type": "code",
   "execution_count": 8,
   "metadata": {
    "collapsed": true
   },
   "outputs": [],
   "source": [
    "pred_Y = create_LSTM_model(X)\n",
    "\n",
    "pred_softmax = tf.nn.softmax(pred_Y, name=\"y_\")"
   ]
  },
  {
   "cell_type": "code",
   "execution_count": 9,
   "metadata": {
    "collapsed": true
   },
   "outputs": [],
   "source": [
    "L2_LOSS = 0.0015\n",
    "\n",
    "l2 = L2_LOSS * \\\n",
    "    sum(tf.nn.l2_loss(tf_var) for tf_var in tf.trainable_variables())\n",
    "\n",
    "loss = tf.reduce_mean(tf.nn.softmax_cross_entropy_with_logits(logits = pred_Y, labels = tf.one_hot(tf.reshape(Y, [-1]), N_CLASSES))) + l2"
   ]
  },
  {
   "cell_type": "code",
   "execution_count": 10,
   "metadata": {
    "collapsed": true
   },
   "outputs": [],
   "source": [
    "LEARNING_RATE = 0.0025\n",
    "\n",
    "optimizer = tf.train.AdamOptimizer(learning_rate=LEARNING_RATE).minimize(loss)\n",
    "\n",
    "correct_pred = tf.equal(tf.argmax(pred_softmax, 1), tf.argmax(tf.one_hot(tf.reshape(Y, [-1]), N_CLASSES), 1))\n",
    "accuracy = tf.reduce_mean(tf.cast(correct_pred, dtype=tf.float32))"
   ]
  },
  {
   "cell_type": "code",
   "execution_count": 12,
   "metadata": {},
   "outputs": [
    {
     "name": "stdout",
     "output_type": "stream",
     "text": [
      "epoch: 1 test accuracy: 0.7544977068901062 loss: 1.1721794605255127\n",
      "epoch: 1 train accuracy: 0.7527761459350586 loss: 1.1733698844909668\n",
      "epoch: 1 test accuracy: 0.7544977068901062 loss: 1.1721794605255127\n",
      "epoch: 2 test accuracy: 0.816049337387085 loss: 0.8827394247055054\n",
      "epoch: 2 train accuracy: 0.8150050640106201 loss: 0.882713794708252\n",
      "epoch: 3 test accuracy: 0.8446356654167175 loss: 0.7315198183059692\n",
      "epoch: 3 train accuracy: 0.8438572883605957 loss: 0.7317976951599121\n",
      "epoch: 4 test accuracy: 0.855560302734375 loss: 0.6630815267562866\n",
      "epoch: 4 train accuracy: 0.8552374243736267 loss: 0.6622980833053589\n",
      "epoch: 5 test accuracy: 0.862052321434021 loss: 0.6157117486000061\n",
      "epoch: 5 train accuracy: 0.8620700836181641 loss: 0.6141660213470459\n",
      "epoch: 6 test accuracy: 0.8616236448287964 loss: 0.5957746505737305\n",
      "epoch: 6 train accuracy: 0.8624241352081299 loss: 0.5937450528144836\n",
      "epoch: 7 test accuracy: 0.8701596856117249 loss: 0.5661356449127197\n",
      "epoch: 7 train accuracy: 0.8696587681770325 loss: 0.5652658939361572\n",
      "epoch: 8 test accuracy: 0.8574972152709961 loss: 0.595550000667572\n",
      "epoch: 8 train accuracy: 0.8573063611984253 loss: 0.5936737060546875\n",
      "epoch: 9 test accuracy: 0.8743396997451782 loss: 0.5340406894683838\n",
      "epoch: 9 train accuracy: 0.8746368288993835 loss: 0.5311256647109985\n",
      "epoch: 10 test accuracy: 0.8802269101142883 loss: 0.5087102055549622\n",
      "epoch: 10 train accuracy: 0.880989134311676 loss: 0.5058378577232361\n",
      "epoch: 10 test accuracy: 0.8802269101142883 loss: 0.5087102055549622\n",
      "epoch: 11 test accuracy: 0.8855628967285156 loss: 0.49257734417915344\n",
      "epoch: 11 train accuracy: 0.886066734790802 loss: 0.4901147782802582\n",
      "epoch: 12 test accuracy: 0.8828834295272827 loss: 0.49853235483169556\n",
      "epoch: 12 train accuracy: 0.8836436867713928 loss: 0.49553704261779785\n",
      "epoch: 13 test accuracy: 0.8842155337333679 loss: 0.49297454953193665\n",
      "epoch: 13 train accuracy: 0.8851327300071716 loss: 0.4893231689929962\n",
      "epoch: 14 test accuracy: 0.887208878993988 loss: 0.48423030972480774\n",
      "epoch: 14 train accuracy: 0.8869662284851074 loss: 0.481168270111084\n",
      "epoch: 15 test accuracy: 0.8801809549331665 loss: 0.5025379061698914\n",
      "epoch: 15 train accuracy: 0.8806560635566711 loss: 0.49970245361328125\n",
      "epoch: 16 test accuracy: 0.8868873715400696 loss: 0.4741209149360657\n",
      "epoch: 16 train accuracy: 0.8873088359832764 loss: 0.4703819155693054\n",
      "epoch: 17 test accuracy: 0.8897811770439148 loss: 0.4641305208206177\n",
      "epoch: 17 train accuracy: 0.8909758925437927 loss: 0.4616888761520386\n",
      "epoch: 18 test accuracy: 0.8918941617012024 loss: 0.45600900053977966\n",
      "epoch: 18 train accuracy: 0.893425703048706 loss: 0.4517006576061249\n",
      "epoch: 19 test accuracy: 0.8898041844367981 loss: 0.4635944366455078\n",
      "epoch: 19 train accuracy: 0.8911883234977722 loss: 0.4602627158164978\n",
      "epoch: 20 test accuracy: 0.8934252858161926 loss: 0.4494110643863678\n",
      "epoch: 20 train accuracy: 0.8934008479118347 loss: 0.4470489025115967\n",
      "epoch: 20 test accuracy: 0.8934252858161926 loss: 0.4494110643863678\n",
      "epoch: 21 test accuracy: 0.8938080668449402 loss: 0.45247742533683777\n",
      "epoch: 21 train accuracy: 0.8951635360717773 loss: 0.4481748640537262\n",
      "epoch: 22 test accuracy: 0.8898347616195679 loss: 0.45961010456085205\n",
      "epoch: 22 train accuracy: 0.8902466893196106 loss: 0.456571102142334\n",
      "epoch: 23 test accuracy: 0.89487224817276 loss: 0.44450119137763977\n",
      "epoch: 23 train accuracy: 0.8956611752510071 loss: 0.4412136673927307\n",
      "epoch: 24 test accuracy: 0.8983555436134338 loss: 0.4345393180847168\n",
      "epoch: 24 train accuracy: 0.898809552192688 loss: 0.43139418959617615\n",
      "epoch: 25 test accuracy: 0.894711434841156 loss: 0.44626137614250183\n",
      "epoch: 25 train accuracy: 0.8954620957374573 loss: 0.44245612621307373\n",
      "epoch: 26 test accuracy: 0.8988378643989563 loss: 0.4317111372947693\n",
      "epoch: 26 train accuracy: 0.9004344344139099 loss: 0.42755138874053955\n",
      "epoch: 27 test accuracy: 0.8958981037139893 loss: 0.44623345136642456\n",
      "epoch: 27 train accuracy: 0.896040141582489 loss: 0.4420925974845886\n",
      "epoch: 28 test accuracy: 0.8976512551307678 loss: 0.43666762113571167\n",
      "epoch: 28 train accuracy: 0.8977320194244385 loss: 0.43343931436538696\n",
      "epoch: 29 test accuracy: 0.8949258327484131 loss: 0.4437311887741089\n",
      "epoch: 29 train accuracy: 0.8970334529876709 loss: 0.4390019178390503\n",
      "epoch: 30 test accuracy: 0.8976512551307678 loss: 0.43365538120269775\n",
      "epoch: 30 train accuracy: 0.8993856310844421 loss: 0.4289501905441284\n",
      "epoch: 30 test accuracy: 0.8976512551307678 loss: 0.43365538120269775\n",
      "epoch: 31 test accuracy: 0.8971842527389526 loss: 0.4326813220977783\n",
      "epoch: 31 train accuracy: 0.8980994820594788 loss: 0.42907172441482544\n",
      "epoch: 32 test accuracy: 0.8923687934875488 loss: 0.4448862075805664\n",
      "epoch: 32 train accuracy: 0.8933912515640259 loss: 0.4405360817909241\n",
      "epoch: 33 test accuracy: 0.8961813449859619 loss: 0.4367559552192688\n",
      "epoch: 33 train accuracy: 0.8973549604415894 loss: 0.4324696362018585\n",
      "epoch: 34 test accuracy: 0.8978732228279114 loss: 0.4335061013698578\n",
      "epoch: 34 train accuracy: 0.8986028432846069 loss: 0.42906486988067627\n",
      "epoch: 35 test accuracy: 0.898615837097168 loss: 0.4341609477996826\n",
      "epoch: 35 train accuracy: 0.8987961411476135 loss: 0.4298536777496338\n",
      "epoch: 36 test accuracy: 0.8999632596969604 loss: 0.42750027775764465\n",
      "epoch: 36 train accuracy: 0.9015980958938599 loss: 0.4226602613925934\n",
      "epoch: 37 test accuracy: 0.9020991921424866 loss: 0.42275452613830566\n",
      "epoch: 37 train accuracy: 0.9026584029197693 loss: 0.41876307129859924\n",
      "epoch: 38 test accuracy: 0.8991057872772217 loss: 0.42528194189071655\n",
      "epoch: 38 train accuracy: 0.9001550078392029 loss: 0.42038363218307495\n",
      "epoch: 39 test accuracy: 0.8976206183433533 loss: 0.43288466334342957\n",
      "epoch: 39 train accuracy: 0.8986392021179199 loss: 0.42716848850250244\n",
      "epoch: 40 test accuracy: 0.9001775979995728 loss: 0.42180198431015015\n",
      "epoch: 40 train accuracy: 0.9017397165298462 loss: 0.41789108514785767\n",
      "epoch: 40 test accuracy: 0.9001775979995728 loss: 0.42180198431015015\n",
      "epoch: 41 test accuracy: 0.8998866677284241 loss: 0.428202748298645\n",
      "epoch: 41 train accuracy: 0.9012153148651123 loss: 0.4234383702278137\n",
      "epoch: 42 test accuracy: 0.8987995982170105 loss: 0.4269235134124756\n",
      "epoch: 42 train accuracy: 0.8999942541122437 loss: 0.42171674966812134\n",
      "epoch: 43 test accuracy: 0.8995345234870911 loss: 0.43023884296417236\n",
      "epoch: 43 train accuracy: 0.8995961546897888 loss: 0.42547351121902466\n",
      "epoch: 44 test accuracy: 0.8979038596153259 loss: 0.4298318028450012\n",
      "epoch: 44 train accuracy: 0.8997550010681152 loss: 0.4244363307952881\n",
      "epoch: 45 test accuracy: 0.8973296880722046 loss: 0.432655394077301\n",
      "epoch: 45 train accuracy: 0.898493766784668 loss: 0.42745518684387207\n",
      "epoch: 46 test accuracy: 0.8966789841651917 loss: 0.4343155026435852\n",
      "epoch: 46 train accuracy: 0.897592306137085 loss: 0.42939478158950806\n",
      "epoch: 47 test accuracy: 0.9027652144432068 loss: 0.4173084497451782\n",
      "epoch: 47 train accuracy: 0.904283344745636 loss: 0.41087132692337036\n",
      "epoch: 48 test accuracy: 0.9002618193626404 loss: 0.42498543858528137\n",
      "epoch: 48 train accuracy: 0.9016057848930359 loss: 0.41908857226371765\n",
      "epoch: 49 test accuracy: 0.8978732228279114 loss: 0.4337768852710724\n",
      "epoch: 49 train accuracy: 0.8978545069694519 loss: 0.4308512210845947\n",
      "epoch: 50 test accuracy: 0.901364266872406 loss: 0.41901975870132446\n",
      "epoch: 50 train accuracy: 0.9027445316314697 loss: 0.41339829564094543\n",
      "epoch: 50 test accuracy: 0.901364266872406 loss: 0.41901975870132446\n",
      "\n",
      "final results: accuracy: 0.901364266872406 loss: 0.41901975870132446\n",
      "CPU times: user 3d 10h 57min 32s, sys: 4h 14min 53s, total: 3d 15h 12min 26s\n",
      "Wall time: 23h 58min\n"
     ]
    }
   ],
   "source": [
    "%%time\n",
    "N_EPOCHS = 50\n",
    "BATCH_SIZE = 1024\n",
    "saver = tf.train.Saver()\n",
    "\n",
    "history = dict(train_loss=[], \n",
    "                     train_acc=[], \n",
    "                     test_loss=[], \n",
    "                     test_acc=[])\n",
    "\n",
    "sess=tf.InteractiveSession()\n",
    "sess.run(tf.global_variables_initializer())\n",
    "\n",
    "train_count = len(X_train)\n",
    "\n",
    "for i in range(1, N_EPOCHS + 1):\n",
    "    for start, end in zip(range(0, train_count, BATCH_SIZE),\n",
    "                          range(BATCH_SIZE, train_count + 1,BATCH_SIZE)):\n",
    "        sess.run(optimizer, feed_dict={X: X_train[start:end],\n",
    "                                       Y: y_train[start:end]})\n",
    "        \n",
    "    _, acc_train, loss_train = sess.run([pred_softmax, accuracy, loss], feed_dict={\n",
    "                                            X: X_train, Y: y_train})\n",
    "\n",
    "    _, acc_test, loss_test = sess.run([pred_softmax, accuracy, loss], feed_dict={\n",
    "                                            X: X_test, Y: y_test})\n",
    "    \n",
    "    print('epoch: {0} test accuracy: {1} loss: {2}'.format(i, acc_test, loss_test))\n",
    "    print('epoch: {0} train accuracy: {1} loss: {2}'.format(i, acc_train, loss_train))\n",
    "\n",
    "    history['train_loss'].append(loss_train)\n",
    "    history['train_acc'].append(acc_train)\n",
    "    history['test_loss'].append(loss_test)\n",
    "    history['test_acc'].append(acc_test)\n",
    "\n",
    "    if i != 1 and i % 10 != 0:\n",
    "        continue\n",
    "\n",
    "    print('epoch: {0} test accuracy: {1} loss: {2}'.format(i, acc_test, loss_test))\n",
    "    \n",
    "predictions, acc_final, loss_final = sess.run([pred_softmax, accuracy, loss], feed_dict={X: X_test, Y: y_test})\n",
    "\n",
    "print()\n",
    "print('final results: accuracy: {0} loss: {1}'.format(acc_final, loss_final))"
   ]
  },
  {
   "cell_type": "code",
   "execution_count": 13,
   "metadata": {
    "collapsed": true
   },
   "outputs": [],
   "source": [
    "pickle.dump(predictions, open(\"predictions.p\", \"wb\"))\n",
    "pickle.dump(history, open(\"history.p\", \"wb\"))\n",
    "tf.train.write_graph(sess.graph_def, '.', 'checkpoint/har.pbtxt')  \n",
    "saver.save(sess, save_path = \"./checkpoint/har.ckpt\")\n",
    "sess.close()"
   ]
  },
  {
   "cell_type": "code",
   "execution_count": 14,
   "metadata": {
    "collapsed": true
   },
   "outputs": [],
   "source": [
    "history = pickle.load(open(\"history.p\", \"rb\"))\n",
    "predictions = pickle.load(open(\"predictions.p\", \"rb\"))"
   ]
  },
  {
   "cell_type": "code",
   "execution_count": 15,
   "metadata": {},
   "outputs": [
    {
     "data": {
      "image/png": "[encoded data removed]",
      "text/plain": [
       "<matplotlib.figure.Figure at 0x7f3eb7d86c18>"
      ]
     },
     "metadata": {},
     "output_type": "display_data"
    }
   ],
   "source": [
    "plt.figure(figsize=(12, 8))\n",
    "plt.plot(np.array(history['train_loss']), \"r--\", label=\"Train loss\")\n",
    "plt.plot(np.array(history['train_acc']), \"g--\", label=\"Train accuracy\")\n",
    "plt.plot(np.array(history['test_loss']), \"r-\", label=\"Test loss\")\n",
    "plt.plot(np.array(history['test_acc']), \"g-\", label=\"Test accuracy\")\n",
    "plt.title(\"Training session's progress over iterations\")\n",
    "plt.legend(loc='upper right', shadow=True)\n",
    "plt.ylabel('Training Progress (Loss or Accuracy values)')\n",
    "plt.xlabel('Training Epoch')\n",
    "plt.ylim(0)\n",
    "plt.show()"
   ]
  },
  {
   "cell_type": "code",
   "execution_count": null,
   "metadata": {},
   "outputs": [],
   "source": []
  },
  {
   "cell_type": "code",
   "execution_count": 17,
   "metadata": {},
   "outputs": [
    {
     "name": "stdout",
     "output_type": "stream",
     "text": [
      "INFO:tensorflow:Restoring parameters from ./checkpoint/har.ckpt\n",
      "INFO:tensorflow:Froze 8 variables.\n",
      "Converted 8 variables to const ops.\n"
     ]
    }
   ],
   "source": [
    "from tensorflow.python.tools import freeze_graph\n",
    "\n",
    "MODEL_NAME = 'har'\n",
    "\n",
    "input_graph_path = 'checkpoint/' + MODEL_NAME+'.pbtxt'\n",
    "checkpoint_path = './checkpoint/' +MODEL_NAME+'.ckpt'\n",
    "restore_op_name = \"save/restore_all\"\n",
    "filename_tensor_name = \"save/Const:0\"\n",
    "output_frozen_graph_name = 'frozen_'+MODEL_NAME+'.pb'\n",
    "\n",
    "freeze_graph.freeze_graph(input_graph_path, input_saver=\"\",\n",
    "                          input_binary=False, input_checkpoint=checkpoint_path, \n",
    "                          output_node_names=\"y_\", restore_op_name=\"save/restore_all\",\n",
    "                          filename_tensor_name=\"save/Const:0\", \n",
    "                          output_graph=output_frozen_graph_name, clear_devices=True, initializer_nodes=\"\")"
   ]
  },
  {
   "cell_type": "code",
   "execution_count": null,
   "metadata": {
    "collapsed": true
   },
   "outputs": [],
   "source": []
  }
 ],
 "metadata": {
  "kernelspec": {
   "display_name": "Python 3",
   "language": "python",
   "name": "python3"
  },
  "language_info": {
   "codemirror_mode": {
    "name": "ipython",
    "version": 3
   },
   "file_extension": ".py",
   "mimetype": "text/x-python",
   "name": "python",
   "nbconvert_exporter": "python",
   "pygments_lexer": "ipython3",
   "version": "3.6.2"
  }
 },
 "nbformat": 4,
 "nbformat_minor": 2
}
