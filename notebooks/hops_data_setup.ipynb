{
 "cells": [
  {
   "cell_type": "markdown",
   "metadata": {
    "deletable": true,
    "editable": true
   },
   "source": [
    "## Imports"
   ]
  },
  {
   "cell_type": "code",
   "execution_count": 1,
   "metadata": {
    "collapsed": false,
    "deletable": true,
    "editable": true
   },
   "outputs": [
    {
     "name": "stdout",
     "output_type": "stream",
     "text": [
      "The history saving thread hit an unexpected error (OperationalError('database or disk is full',)).History will not be written to the database.\n",
      "Starting Spark application\n"
     ]
    },
    {
     "data": {
      "text/html": [
       "<table>\n",
       "<tr><th>ID</th><th>YARN Application ID</th><th>Kind</th><th>State</th><th>Spark UI</th><th>Driver log</th><th>Current session?</th></tr><tr><td>3250</td><td>application_1513605045578_0495</td><td>pyspark</td><td>idle</td><td><a target=\"_blank\" href=\"http://hadoop30:8088/proxy/application_1513605045578_0495/\">Link</a></td><td><a target=\"_blank\" href=\"http://hadoop34:8042/node/containerlogs/container_e28_1513605045578_0495_01_000001/har_2__kimham00\">Link</a></td><td>✔</td></tr></table>"
      ],
      "text/plain": [
       "<IPython.core.display.HTML object>"
      ]
     },
     "metadata": {},
     "output_type": "display_data"
    },
    {
     "name": "stdout",
     "output_type": "stream",
     "text": [
      "SparkSession available as 'spark'.\n"
     ]
    }
   ],
   "source": [
    "import argparse\n",
    "from pyspark.context import SparkContext\n",
    "from pyspark.conf import SparkConf\n",
    "from pyspark.sql import SQLContext\n",
    "from hops import hdfs\n",
    "from pyspark.sql.functions import udf\n",
    "from pyspark.sql.types import *\n",
    "import tensorflow as tf"
   ]
  },
  {
   "cell_type": "markdown",
   "metadata": {
    "deletable": true,
    "editable": true
   },
   "source": [
    "## Constants"
   ]
  },
  {
   "cell_type": "code",
   "execution_count": 2,
   "metadata": {
    "collapsed": false,
    "deletable": true,
    "editable": true
   },
   "outputs": [],
   "source": [
    "project_path = \"/Projects/\" + hdfs.project_name()\n",
    "\n",
    "TRAIN_FEATURES_PATH = project_path + \"/HAR_Dataset/cleaned_data/train/features/x_train.csv\"\n",
    "TRAIN_LABELS_PATH = project_path + \"/HAR_Dataset/cleaned_data/train/labels/y_train.csv\"\n",
    "TEST_FEATURES_PATH = project_path + \"/HAR_Dataset/cleaned_data/test/features/x_test.csv\"\n",
    "TEST_LABELS_PATH = project_path + \"/HAR_Dataset/cleaned_data/test/labels/y_test.csv\"\n",
    "\n",
    "OUTPUT_TRAIN_FEATURES_PATH = project_path + \"/HAR_Dataset/cleaned_data_parallel/train/features\"\n",
    "OUTPUT_TRAIN_LABELS_PATH = project_path + \"/HAR_Dataset/cleaned_data_parallel/train/labels\"\n",
    "OUTPUT_TEST_FEATURES_PATH = project_path + \"/HAR_Dataset/cleaned_data_parallel/test/features\"\n",
    "OUTPUT_TEST_LABELS_PATH = project_path + \"/HAR_Dataset/cleaned_data_parallel/test/labels\"\n",
    "\n",
    "sc = spark.sparkContext\n",
    "sql = SQLContext(sc)\n",
    "\n",
    "schema_label = (StructType().add('y', IntegerType(), True)) "
   ]
  },
  {
   "cell_type": "markdown",
   "metadata": {
    "deletable": true,
    "editable": true
   },
   "source": [
    "## Read Data"
   ]
  },
  {
   "cell_type": "code",
   "execution_count": 3,
   "metadata": {
    "collapsed": false,
    "deletable": true,
    "editable": true
   },
   "outputs": [],
   "source": [
    "def read_raw_data():\n",
    "    seq_features_train_raw = sc.textFile(TRAIN_FEATURES_PATH).zipWithIndex()\n",
    "    seq_labels_train_raw = sc.textFile(TRAIN_LABELS_PATH).zipWithIndex()\n",
    "    seq_features_test_raw = sc.textFile(TEST_FEATURES_PATH).zipWithIndex()\n",
    "    seq_labels_test_raw = sc.textFile(TEST_LABELS_PATH).zipWithIndex()\n",
    "    return seq_features_train_raw,seq_labels_train_raw, seq_features_test_raw, seq_labels_test_raw"
   ]
  },
  {
   "cell_type": "markdown",
   "metadata": {
    "deletable": true,
    "editable": true
   },
   "source": [
    "### Read Raw Data"
   ]
  },
  {
   "cell_type": "code",
   "execution_count": 4,
   "metadata": {
    "collapsed": false,
    "deletable": true,
    "editable": true
   },
   "outputs": [],
   "source": [
    "seq_features_train_raw, seq_labels_train_raw,seq_features_test_raw,seq_labels_test_raw = read_raw_data()"
   ]
  },
  {
   "cell_type": "markdown",
   "metadata": {
    "deletable": true,
    "editable": true
   },
   "source": [
    "### Filter Null"
   ]
  },
  {
   "cell_type": "code",
   "execution_count": 5,
   "metadata": {
    "collapsed": false,
    "deletable": true,
    "editable": true
   },
   "outputs": [],
   "source": [
    "def filter1(i,y):\n",
    "    if int(y) != 6:\n",
    "        return True\n",
    "    else:\n",
    "        return False\n",
    "indices = seq_labels_train_raw.filter(lambda (y,i): not filter1(i,y)).map(lambda (y,i): i).collect()\n",
    "seq_labels_train_raw = seq_labels_train_raw.filter(lambda (y,i): filter1(i,y))"
   ]
  },
  {
   "cell_type": "code",
   "execution_count": 6,
   "metadata": {
    "collapsed": false,
    "deletable": true,
    "editable": true
   },
   "outputs": [],
   "source": [
    "indices2 = seq_labels_test_raw.filter(lambda (y,i): not filter1(i,y)).map(lambda (y,i): i).collect()\n",
    "seq_labels_test_raw = seq_labels_test_raw.filter(lambda (y,i): filter1(i,y))"
   ]
  },
  {
   "cell_type": "code",
   "execution_count": 7,
   "metadata": {
    "collapsed": false,
    "deletable": true,
    "editable": true
   },
   "outputs": [],
   "source": [
    "seq_features_train_raw = seq_features_train_raw.filter(lambda (x,i): i not in indices)\n",
    "seq_features_test_raw = seq_features_test_raw.filter(lambda (x,i): i not in indices2)"
   ]
  },
  {
   "cell_type": "code",
   "execution_count": 8,
   "metadata": {
    "collapsed": false,
    "deletable": true,
    "editable": true
   },
   "outputs": [
    {
     "name": "stdout",
     "output_type": "stream",
     "text": [
      "451200,112743,451200,112743"
     ]
    }
   ],
   "source": [
    "s1 = seq_features_train_raw.count()\n",
    "s2 = seq_features_test_raw.count()\n",
    "s3 = seq_labels_train_raw.count()\n",
    "s4 = seq_labels_test_raw.count()\n",
    "\n",
    "print(\"{0},{1},{2},{3}\".format(s1,s2,s3,s4))"
   ]
  },
  {
   "cell_type": "markdown",
   "metadata": {
    "deletable": true,
    "editable": true
   },
   "source": [
    "### Save Cleaned Data"
   ]
  },
  {
   "cell_type": "code",
   "execution_count": 9,
   "metadata": {
    "collapsed": false,
    "deletable": true,
    "editable": true
   },
   "outputs": [],
   "source": [
    "seq_features_train_raw.map(lambda (x,i): x).saveAsTextFile(OUTPUT_TRAIN_FEATURES_PATH)\n",
    "seq_labels_train_raw.map(lambda (y,i): y).saveAsTextFile(OUTPUT_TRAIN_LABELS_PATH)\n",
    "seq_features_test_raw.map(lambda (x,i): x).saveAsTextFile(OUTPUT_TEST_FEATURES_PATH)\n",
    "seq_labels_test_raw.map(lambda (y,i): y).saveAsTextFile(OUTPUT_TEST_LABELS_PATH)"
   ]
  },
  {
   "cell_type": "code",
   "execution_count": null,
   "metadata": {
    "collapsed": true,
    "deletable": true,
    "editable": true
   },
   "outputs": [],
   "source": []
  }
 ],
 "metadata": {
  "kernelspec": {
   "display_name": "PySpark",
   "language": "",
   "name": "pysparkkernel"
  },
  "language_info": {
   "codemirror_mode": {
    "name": "python",
    "version": 2
   },
   "mimetype": "text/x-python",
   "name": "pyspark",
   "pygments_lexer": "python2"
  }
 },
 "nbformat": 4,
 "nbformat_minor": 2
}
